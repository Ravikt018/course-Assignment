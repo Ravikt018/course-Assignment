{
 "cells": [
  {
   "cell_type": "markdown",
   "id": "5d3a0964-850e-4c07-9e41-ec589851f461",
   "metadata": {},
   "source": [
    "# My Jupyter Notebook on IBM Watson Studio"
   ]
  },
  {
   "cell_type": "markdown",
   "id": "63b0780f-9282-4542-b2d9-d0ab35d089bd",
   "metadata": {},
   "source": [
    "**RaviKumar**\n",
    "\n",
    "i want be data scientist"
   ]
  },
  {
   "cell_type": "markdown",
   "id": "e4de31ac-fb55-4936-871a-723c22997c2c",
   "metadata": {},
   "source": [
    "_Because it holds the promise of a career with high pay, high demand, and high security? That is fair, but not necessarily what a recruiter wants to hear. While this is a given, your answer should help them gauge what is it about data science that draws you in and is likely to keep you engaged in the years to come_"
   ]
  },
  {
   "cell_type": "markdown",
   "id": "dd9d0971-43e2-47a9-b736-5e2292e18e38",
   "metadata": {},
   "source": [
    "### Now i am going to show a bold plus italic format in paragraph"
   ]
  },
  {
   "cell_type": "markdown",
   "id": "86f2f24c-1189-4017-90fc-a49717eeb18f",
   "metadata": {},
   "source": [
    "**_my name is ravi kumar and i am graduate pursuing student and also i want pursue a career in data science_**"
   ]
  },
  {
   "cell_type": "markdown",
   "id": "3fa3eec3-8b56-4f52-a0dc-a94218e4f6a9",
   "metadata": {},
   "source": [
    "[this is a link for my youtube channel](https://www.youtube.com/watch?v=gSvNhbM8i6A&t=6s/)\n",
    "\n",
    "![this is link for the image](https://c4.wallpaperflare.com/wallpaper/295/163/719/anime-anime-boys-picture-in-picture-kimetsu-no-yaiba-kamado-tanjir%C5%8D-hd-wallpaper-preview.jpg)\n",
    "\n",
    ">Addiction in America is skyrocketing and taking the lives of our loved ones, resulting in more than 150,000 deaths per year in 2020. A recent editorial in the Washington Post argued:"
   ]
  },
  {
   "cell_type": "code",
   "execution_count": null,
   "id": "aaa84604-59c5-4b77-b535-1c17e671a58b",
   "metadata": {},
   "outputs": [],
   "source": []
  }
 ],
 "metadata": {
  "kernelspec": {
   "display_name": "Python",
   "language": "python",
   "name": "conda-env-python-py"
  },
  "language_info": {
   "codemirror_mode": {
    "name": "ipython",
    "version": 3
   },
   "file_extension": ".py",
   "mimetype": "text/x-python",
   "name": "python",
   "nbconvert_exporter": "python",
   "pygments_lexer": "ipython3",
   "version": "3.7.12"
  },
  "toc-autonumbering": true,
  "toc-showmarkdowntxt": true
 },
 "nbformat": 4,
 "nbformat_minor": 5
}
